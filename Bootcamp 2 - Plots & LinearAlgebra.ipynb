{
 "cells": [
  {
   "cell_type": "markdown",
   "id": "a883d7b2-34b7-49e3-9325-abff04fe7353",
   "metadata": {},
   "source": [
    "<h1>Scientific coding bootcamp notebook 2: Plotting and linear algebra.</h1>\n",
    "Julia is designed from head to toe for scientific computing.  Much of its power comes from the state of the art packages that are part of the Julia ecosystem.  We'll acquaint ourselves with a few of those packages in this notebook. "
   ]
  },
  {
   "cell_type": "markdown",
   "id": "c1e718fe-705d-45a9-a48b-d6c7cbbc6b55",
   "metadata": {},
   "source": [
    "<h2>Plotting</h2>"
   ]
  },
  {
   "cell_type": "code",
   "execution_count": null,
   "id": "fd01776b-7c53-449f-afcc-3e087cb3b26f",
   "metadata": {},
   "outputs": [],
   "source": [
    "using Plots, LinearAlgebra"
   ]
  },
  {
   "cell_type": "code",
   "execution_count": null,
   "id": "5c04ad27-3fe3-47bb-b493-9e49c898f3fc",
   "metadata": {},
   "outputs": [],
   "source": [
    "# Basic plotting\n",
    "x = 0:0.1:10      # This is called a range.  \n",
    "y = x .^ 2\n",
    "plot(x,y,label=\"y=x^2\")"
   ]
  },
  {
   "cell_type": "code",
   "execution_count": null,
   "id": "ad53985a-dbdf-44f4-8e38-9374d9848342",
   "metadata": {},
   "outputs": [],
   "source": [
    "# There are two ways to plot multiple lines.  The first is to simply pass a vector of things to plot:\n",
    "plot(x,[y,x.^3]; labels = [\"y=x^2\" \"y=x^3\"], title=\"This is a title\")"
   ]
  },
  {
   "cell_type": "code",
   "execution_count": null,
   "id": "f5274d9e-7779-42a3-80fe-72dab298e579",
   "metadata": {},
   "outputs": [],
   "source": [
    "# The second is to use the function \"plot!\", which updates a plot:\n",
    "p = plot(x,y,label=\"y=x^2\")\n",
    "plot!(p,x,x.^4,label=\"y=x^4\",ylim=(0,100))"
   ]
  },
  {
   "cell_type": "markdown",
   "id": "7ef375a8-5e26-484f-add6-e629617edd69",
   "metadata": {},
   "source": [
    "</hline>\n",
    "<h1>Linear algebra</h1>\n",
    "<h3>SVD and pinv</h3>"
   ]
  },
  {
   "cell_type": "markdown",
   "id": "f0a42059-c0ec-4bd9-8c10-76f7d72d13fb",
   "metadata": {},
   "source": [
    "We now come to linear algebra.  The power of linear algebra is that it lets you reason geometrically about algebra, and it lets you reason algebraically about geometry.  We begin with the very useful singular value decomposition (SVD) and the related pseudo-inverse.\n",
    "\n",
    "SVD breaks an arbitrary matrix into a composition of a rotation, a stretching (diagonal matrix), and another rotation.  More explicitly, SVD of an arbitrary matrix M is given by U*S*V', where U and V are rotation matrices, S is diagonal, and ' denotes the conjugate-transpose.  The singular values tell you a lot about the matrix, such as whether it is invertible, and they are usually sorted from largest to smallest.  (Remarkably, this works even if M is not a square matrix.  Question: What do you think it means for a non-square matrix to be \"diagonal\"?)\n",
    "\n",
    "The pseudoinverse is the \"closest to an inverse you can get\".  If a matrix M is invertable, the pseudoinverse pinv(M) is just the regular inverse M^{-1}.  If M is not invertable but it is diagonal, then the pinv(M) is computed by inverting each non-zero diagonal element and leaving every other element zero.  In the general case, if the SVD of M is U*S*V', the pseudoinverse of M is V*pinv(S)*transpose(U). "
   ]
  },
  {
   "cell_type": "code",
   "execution_count": null,
   "id": "9650e599-e608-4ea4-9a6f-74a6ebc2f7f5",
   "metadata": {},
   "outputs": [],
   "source": [
    "# Try to interpret geometrically what this matrix does.\n",
    "M = [0 -2 0 ; 2 0 0 ; 0 0 0]\n",
    "F = svd(M)"
   ]
  },
  {
   "cell_type": "code",
   "execution_count": null,
   "id": "f3072e05-c0c6-4970-9977-1eb9618e670d",
   "metadata": {},
   "outputs": [],
   "source": [
    "pinv(M)"
   ]
  },
  {
   "cell_type": "markdown",
   "id": "b7eac0b6-b9ea-4013-b3db-7e9c1a104a6b",
   "metadata": {},
   "source": [
    "Below are some problems to get you familiar with pinv and SVD. "
   ]
  },
  {
   "cell_type": "code",
   "execution_count": null,
   "id": "2c8a04e3-36e8-4731-91e0-4d01c2160297",
   "metadata": {},
   "outputs": [],
   "source": [
    "# Compute the pseudoinverse of the pseudoinverse of M, and interpret it. "
   ]
  },
  {
   "cell_type": "code",
   "execution_count": null,
   "id": "7e00a8da-c8d8-4f5f-942e-528a9efe699f",
   "metadata": {},
   "outputs": [],
   "source": [
    "# Extract the diagonal factor of svd(M), and turn it into a diagonal matrix. "
   ]
  },
  {
   "cell_type": "code",
   "execution_count": null,
   "id": "0e712788-1963-45f4-9e72-d32903fd5337",
   "metadata": {},
   "outputs": [],
   "source": [
    "# Find a matrix for which both rotations in the SVD are the identity matrix. "
   ]
  },
  {
   "cell_type": "code",
   "execution_count": null,
   "id": "8462836c-8531-4675-80c4-320862eca0b9",
   "metadata": {},
   "outputs": [],
   "source": [
    "# Find a non-diagonal matrix for which the SVD diagonal factor has exactly one non-zero entry. "
   ]
  },
  {
   "cell_type": "code",
   "execution_count": null,
   "id": "886ece71-557c-4e73-a032-36bcac88269c",
   "metadata": {},
   "outputs": [],
   "source": [
    "# Compute the determinant of a matrix using the diagonal factor of its SVD. "
   ]
  },
  {
   "cell_type": "code",
   "execution_count": null,
   "id": "33a129d0-d524-47cd-b009-cda8e401c25d",
   "metadata": {},
   "outputs": [],
   "source": [
    "# Compute the SVD of a non-square matrix.  What are the shapes of the factors?  Why does this make sense?"
   ]
  },
  {
   "cell_type": "markdown",
   "id": "a3d5dc28-d5e1-49e4-b82d-1688855862be",
   "metadata": {},
   "source": [
    "<h3>Least squares</h3>"
   ]
  },
  {
   "cell_type": "markdown",
   "id": "075b98e8-0c3f-41c9-aa14-0f432e60735a",
   "metadata": {},
   "source": [
    "A very useful application of pinv is for computing linear least squares fits.  Suppose we have data with x-coordinates xs and y coordinates ys.  A least squares fit is a slope A and intercept b such that (ys - A*xs - b) is pretty small.  This can be rearranged into \n",
    "\n",
    "ys ≈ [xs ones(length(xs))] * [A, b], \n",
    "\n",
    "or \n",
    "\n",
    "[A,b] = pinv([xs ones(length(xs))]) * ys."
   ]
  },
  {
   "cell_type": "code",
   "execution_count": null,
   "id": "b0a18fc2-2f1a-48dd-9f20-666397b1e692",
   "metadata": {},
   "outputs": [],
   "source": [
    "xs = sort(rand(100))\n",
    "ys = sort(rand(100))\n",
    "A,b = pinv([xs ones(length(xs))]) * ys\n",
    "println(A)\n",
    "println(b)\n",
    "scatter(xs,ys,label=\"Data\")\n",
    "plot!(xs,A*xs .+ b,label=\"Fit\")"
   ]
  },
  {
   "cell_type": "markdown",
   "id": "5edc01a0-03dc-43cc-8fbd-aa8f8b640c4c",
   "metadata": {},
   "source": [
    "There's a convenient shorthand for the pseudoinverse, using the operator \\. "
   ]
  },
  {
   "cell_type": "code",
   "execution_count": null,
   "id": "71a7f593-32c7-4112-ba44-e0a0c335dfe6",
   "metadata": {},
   "outputs": [],
   "source": [
    "A,b = [xs ones(length(xs))] \\ ys"
   ]
  },
  {
   "cell_type": "markdown",
   "id": "74df6394-ecf4-42fa-a1bd-4e875e1891e5",
   "metadata": {},
   "source": [
    "<h3>Function spaces: Gaussian beam propagation</h3>"
   ]
  },
  {
   "cell_type": "markdown",
   "id": "24850e0f-8880-4df2-938e-8c4c9170a053",
   "metadata": {},
   "source": [
    "Arguably the most powerful application of linear algebra is to vector spaces of functions.  We will see how this works on a space of two-dimensional functions which model laser beam propagation. We begin by defining the Hermite-Gaussian modes, which are the most basic shapes that laser beams can assume.  "
   ]
  },
  {
   "cell_type": "code",
   "execution_count": null,
   "id": "a7fc6a2a-4dc6-4437-b091-3a0dfe1e5665",
   "metadata": {},
   "outputs": [],
   "source": [
    "using SpecialPolynomials: Hermite, basis\n",
    "# Define a 64x64 computational grid\n",
    "N = 64\n",
    "const grid = (-sqrt(N)/2:sqrt(1/N):sqrt(N)/2-sqrt(1/N), -sqrt(N)/2:sqrt(1/N):sqrt(N)/2-sqrt(1/N))\n",
    "\n",
    "function HGMode(grid, n::Int, m::Int; waist::Float64=1.0, z::Float64=0.0, lam::Float64=1.0)\n",
    "    return HG1D(grid[1],n;waist=waist,z=z,lam=lam) .* transpose(HG1D(grid[2],m;waist=waist,z=z,lam=lam))\n",
    "end\n",
    "\n",
    "function HG1D(grid, n::Int; waist::Float64=1.0, z::Float64=0.0, lam::Float64=1.0)\n",
    "    zr = pi * waist^2 / lam\n",
    "    q = z + im*zr\n",
    "    w = waist*sqrt(1+(z/zr)^2)\n",
    "    prefactor = sqrt(sqrt(2/pi)/(2^n * factorial(n) * waist)) * sqrt(1/(1-im*z/zr)) * sqrt(-conj(q)/q)^n\n",
    "    polyfactor = basis(Hermite,n).(grid * sqrt(2) ./ w)\n",
    "    expfactor = exp.(-2*pi*im * grid.^2 / (2*lam*q))\n",
    "    return prefactor .* polyfactor .* expfactor\n",
    "end"
   ]
  },
  {
   "cell_type": "code",
   "execution_count": null,
   "id": "51a352d9-b54c-422d-8624-7afd668f8204",
   "metadata": {},
   "outputs": [],
   "source": [
    "# Why do we need to take abs here? \n",
    "heatmap(abs.(HGMode(grid,10,0)).^2)"
   ]
  },
  {
   "cell_type": "markdown",
   "id": "4aa0355a-fcc4-409a-984e-427f5fbabda0",
   "metadata": {},
   "source": [
    "Hermite-Gaussian modes $H_{n,m}(x,y)$ form a basis for 2D functions.  This means that any 2D function can be written as a sum of the form\n",
    "$$\n",
    "\\sum_{n,m} c_{n,m} H_{n,m}(x,y).\n",
    "$$\n",
    "But how do we determine the coefficients $c_{n,m}$?  The answer lies in the concept of *orthogonality*.  The integral of a product of two HG modes (one of them complex conjugated) is zero if the modes are different and 1 if they are the same,\n",
    "$$\n",
    "\\int_{\\mathbb{R}^2} H_{n,m}(x,y) H^{*}_{p,q}(x,y) \\; dx \\; dy = \\delta_{np} \\delta_{mq}.\n",
    "$$\n",
    "\n",
    "If some function $f(x,y)$ equals $\\sum_{n,m} c_{n,m} H_{n,m}(x,y)$ for some choice of coefficients $c_{n,m}$, by multiplying both expressions against $H^{*}_{p,q}$ and integrating, we find\n",
    "$$\n",
    "c_{p,q} = \\int_{\\mathbb{R}^2} f(x,y) H^{*}_{p,q}(x,y) \\; dx \\; dy.\n",
    "$$\n",
    "You will implement this *mode decomposition* below for a function (represented as a matrix) sampled on the same grid as above. "
   ]
  },
  {
   "cell_type": "code",
   "execution_count": null,
   "id": "b13d47c2-64ec-419d-b1a8-5cc922033c8a",
   "metadata": {},
   "outputs": [],
   "source": [
    "# Finish the code below to implement the overlap integral in the mode decomposition coefficient formula. \n",
    "# Numerical Recipes 4.1.3 has relevant integration formulas, though you can probably devise your own.\n",
    "function HGOverlap(grid,f::Matrix{T},n::Int,m::Int; waist::Float64=1.0, z::Float64=0.0, lam::Float64=1.0) where {T<:Number}\n",
    "    mode = HGMode(grid, n, m; waist=waist, z=z, lam=lam)\n",
    "    integrand = f .* conj.(mode)\n",
    "    # Your code here\n",
    "end\n",
    "\n",
    "LG01 = [exp(-x^2-y^2) * (1-2x^2-2y^2) for x in grid[1], y in grid[2]] * sqrt(2/pi)\n",
    "coeffs = [HGOverlap(grid,LG01,n,m) for n=0:5,m=0:5]"
   ]
  },
  {
   "cell_type": "code",
   "execution_count": null,
   "id": "5b27eca9-5748-4a3a-97fe-d9a061e24961",
   "metadata": {},
   "outputs": [],
   "source": [
    "# If you coded the above correctly, the sum of squared absolute values of the coefficients should be one.  \n",
    "sum(abs.(coeffs).^2) |> println\n",
    "heatmap(abs.(coeffs).^2)        # This visually shows where the coefficients are large. "
   ]
  },
  {
   "cell_type": "code",
   "execution_count": null,
   "id": "1e83abca-b3c7-48e6-aca7-fadb0070b578",
   "metadata": {},
   "outputs": [],
   "source": [
    "# Examine the form of the profile LG01. Then use the coefficients you found above and the HGMode function evaluated at z=4 \n",
    "# to determine what a laser with initial profile LG01 will look like after propagating distance 4. \n",
    "heatmap(abs.(LG01_sampled).^2)"
   ]
  },
  {
   "cell_type": "code",
   "execution_count": null,
   "id": "4d22c3d0-8f2c-4aa9-a712-a9d4156320b1",
   "metadata": {},
   "outputs": [],
   "source": [
    "# Your code here.  Make a heatmap of the beam at z=4. "
   ]
  },
  {
   "cell_type": "code",
   "execution_count": null,
   "id": "0d6835e5-5a9b-4dac-98a5-160c16bc9844",
   "metadata": {},
   "outputs": [],
   "source": []
  }
 ],
 "metadata": {
  "kernelspec": {
   "display_name": "Julia 1.10.3",
   "language": "julia",
   "name": "julia-1.10"
  },
  "language_info": {
   "file_extension": ".jl",
   "mimetype": "application/julia",
   "name": "julia",
   "version": "1.10.3"
  }
 },
 "nbformat": 4,
 "nbformat_minor": 5
}
