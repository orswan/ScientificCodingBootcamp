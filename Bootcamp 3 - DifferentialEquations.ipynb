{
 "cells": [
  {
   "cell_type": "markdown",
   "id": "ef2902db-674d-4a83-b934-aa7d1a6051af",
   "metadata": {},
   "source": [
    "<h1>Scientific coding bootcamp notebook 3: Differential equations.</h1>\n",
    "Physics is \"the study of things which can be modelled by differential equations\".  This is of course an exageration, but only a slight one.  DifferentialEquations.jl is one of the best (if not the best) packages for solving a wide class of differential equations.  We will only scratch the surface here. "
   ]
  },
  {
   "cell_type": "code",
   "execution_count": null,
   "id": "379c84c6-4bf4-441a-b2aa-cc8fe0105ed9",
   "metadata": {},
   "outputs": [],
   "source": [
    "using Plots, DifferentialEquations"
   ]
  },
  {
   "cell_type": "markdown",
   "id": "aca84abb-96e7-4707-8f1f-759b802e1f05",
   "metadata": {},
   "source": [
    "<h2>Basic ODE interface.</h2>\n",
    "The way you interact with DifferentialEquations package to solve ODEs is as follows. \n",
    "\n",
    "* First you must write your ODE as a system of first order equations of the form $\\frac{d}{dt}\\vec x = f(\\vec x)$.\n",
    "* Then you define a Julia function to evaluate $f$.  The function must take three arguments.  The first is the current state of the differential equation solution $\\vec x$.  The second argument is a vector of parameters.  The third argument is the current time.  The function does not need to actually depend on all these arguments, but they have to be there.  E.g. to solve the ODE $u' = - u$, you could define the function \n",
    "```julia\n",
    "function f(x::Vector{Float64},p,t)\n",
    "    return -x\n",
    "end\n",
    "```\n",
    "* Define an initial condition vector, e.g. `x_init = [1.0, 0.5]`, and a time range, e.g. `tspan = (0.0, 1.0)`.\n",
    "* Pass `f, x_init, tspan` to the function `ODEProblem`, e.g.\n",
    "```julia\n",
    "prob = ODEProblem(f,x_init,tspan)\n",
    "```\n",
    "* Solve the problem with the function `solve`, e.g.\n",
    "```julia\n",
    "sol = solve(prob; save_everystep = true )\n",
    "```\n",
    "* The object `sol` contains all the information you are likely to want.  There are different ways to extract that info.  E.g. if you want a plot of the solution, you can usually just call `plot(sol)`.  If you want the raw data, you can get it via `sol.u[j]` for the solution values at time step $j$ and `sol.t[j]` for the time value at time step $j$.  You can also call the solution as a function to get the solution value at any interpolated time, e.g. `sol(1.5)`. "
   ]
  },
  {
   "cell_type": "markdown",
   "id": "285d8187-c7c2-4d4e-bbfb-f67521e3cfdd",
   "metadata": {},
   "source": [
    "<h2>Damped harmonic oscillator.</h2>\n",
    "As a warmup, let's solve the damped harmonic oscillator.  This shows all the basic elements of solving ODEs in Julia.  Recall that the equation of motion is \n",
    "$$\n",
    "\\ddot x = -\\omega^2 x - \\gamma \\dot x.\n",
    "$$\n",
    "The first step is to rewrite this (single second order equation) as a system of first order equations.  We accomplish this by defining $y=\\dot x$ and rewriting all $\\dot x$'s as $y$'s and all $\\ddot x$'s as $\\dot y$'s.  Using this trick, try to write the above equation in the form \n",
    "$$\n",
    "\\frac{d}{dt} \\begin{bmatrix}\n",
    "           x \\\\\n",
    "           y\n",
    "         \\end{bmatrix}\n",
    "         = \n",
    "         \\begin{bmatrix}\n",
    "           ? \\\\\n",
    "           ?\n",
    "         \\end{bmatrix}.\n",
    "$$"
   ]
  },
  {
   "cell_type": "code",
   "execution_count": null,
   "id": "3b48cdaf-fe7e-4b1f-9fd0-55ec4d44b7f6",
   "metadata": {},
   "outputs": [],
   "source": [
    "# Fill in the code below to solve the damped harmonic oscillator. \n",
    "x_init = [10, 0] \n",
    "const ω = 2.0\n",
    "const γ = 0.5\n",
    "tspan = (0,15)\n",
    "function f(x::Vector{T},p,t) where T<:Number\n",
    "    # Your code here.\n",
    "end\n",
    "\n",
    "prob = # Your code here.\n",
    "sol = solve(prob;save_everystep = true);"
   ]
  },
  {
   "cell_type": "code",
   "execution_count": null,
   "id": "d152b631-1eaa-4850-9059-12277bb4b650",
   "metadata": {},
   "outputs": [],
   "source": [
    "plot(sol)"
   ]
  },
  {
   "cell_type": "markdown",
   "id": "5db7783e-3e37-44fe-8fb3-28ae7027b7ad",
   "metadata": {},
   "source": [
    "Leaving ω fixed, try to find a value of γ which minimizes the average magnitude of $x$ over all initial conditions. "
   ]
  },
  {
   "cell_type": "code",
   "execution_count": null,
   "id": "1ade124c-22cf-4423-a670-d4033ab65d9b",
   "metadata": {},
   "outputs": [],
   "source": [
    "# Your code here. "
   ]
  },
  {
   "cell_type": "markdown",
   "id": "ee3366e5-b58e-49e8-85b0-84f6787fb457",
   "metadata": {},
   "source": [
    "<h2>Double pendulum.</h2>\n",
    "As a more complicated example, let's solve the double pendulum.  As a warm up, either write down or look up the Lagrangian for a double pendulum with gravitational constant $g$, lengths $l_1, l_2$, and respective masses $m_1,m_2$, with the second mass pivoting about the first one. "
   ]
  },
  {
   "cell_type": "markdown",
   "id": "d99116e6-6672-4fc6-b1be-49e33e704f4c",
   "metadata": {},
   "source": []
  },
  {
   "cell_type": "markdown",
   "id": "48de0856-f526-4376-a145-b9de001a6221",
   "metadata": {},
   "source": [
    "From the Lagrangian and the Euler-Lagrange equation, \n",
    "$$\n",
    "0 = \\frac{d}{dt} \\frac{\\partial L}{\\partial \\dot q} - \\frac{\\partial L}{\\partial q},\n",
    "$$\n",
    "you can derive the equations of motion\n",
    "\n",
    "$$\n",
    "\\frac{d}{dt} \\begin{bmatrix}\n",
    "           \\theta_1 \\\\\n",
    "           \\dot\\theta_1 \\\\\n",
    "           \\theta_2 \\\\\n",
    "           \\dot\\theta_2\n",
    "         \\end{bmatrix}\n",
    "         = \n",
    "         \\begin{bmatrix}\n",
    "           \\dot\\theta_1 \\\\\n",
    "           \\frac{c-bd}{a-b^2} \\\\\n",
    "           \\dot\\theta_2 \\\\\n",
    "           \\frac{ad-bc}{a-b^2}\n",
    "         \\end{bmatrix}\n",
    "$$\n",
    "where\n",
    "\n",
    "$\n",
    "a = 1 + M\n",
    "$\n",
    "\n",
    "$\n",
    "b = L \\cos(\\theta_2-\\theta_1)\n",
    "$\n",
    "\n",
    "$\n",
    "c = \\sin(\\theta_2-\\theta_1) \\dot\\theta_2^2 L - G L (1+M) \\sin(\\theta_1)\n",
    "$\n",
    "\n",
    "$\n",
    "d = -\\sin(\\theta_2 - \\theta_1) \\dot\\theta_1^2 L - G L \\sin(\\theta_2)\n",
    "$\n",
    "\n",
    "$\n",
    "L = l_1/l_2\n",
    "$\n",
    "\n",
    "$\n",
    "M = m_1/m_2\n",
    "$\n",
    "\n",
    "$\n",
    "G = g/l_2\n",
    "$"
   ]
  },
  {
   "cell_type": "markdown",
   "id": "279ed6b6-d29f-41e5-9082-786f0347c36a",
   "metadata": {},
   "source": [
    "Complete the code below to simulate the double pendulum with initial conditions $\\theta_1=\\theta_2=3\\pi/4$."
   ]
  },
  {
   "cell_type": "code",
   "execution_count": null,
   "id": "ecee00e9-01ad-41ce-8070-4906519d3839",
   "metadata": {},
   "outputs": [],
   "source": [
    "const l1 = 2.0\n",
    "const l2 = 3.2\n",
    "const m1 = 3.0\n",
    "const m2 = 0.8\n",
    "const g = 9.8\n",
    "const L = l1/l2\n",
    "const M = m1/m2\n",
    "const G = g/l2\n",
    "\n",
    "tspan = (0,15)\n",
    "x_init = # Your code here\n",
    "function f(x::Vector{T},p,t) where T<:Number\n",
    "    # Your code here.\n",
    "end\n",
    "\n",
    "# Your code here.  Set up and solve this ODE."
   ]
  },
  {
   "cell_type": "code",
   "execution_count": null,
   "id": "0e97838e-bd3c-405b-9913-de08e270716d",
   "metadata": {},
   "outputs": [],
   "source": [
    "# Let's animate the solution!\n",
    "\n",
    "function doublePendulumPlot(u)\n",
    "    plot([0,l1*sin(u[1])],[0,-l1*cos(u[1])];\n",
    "        linewidth=5,\n",
    "        color=:red,\n",
    "        aspect_ratio=1,\n",
    "        size=(400,400),\n",
    "        xlim=(-l1-l2,l1+l2),\n",
    "        ylim=(-l1-l2,l1+l2))\n",
    "    plot!([l1*sin(u[1]),l1*sin(u[1])+l2*sin(u[3])],[-l1*cos(u[1]),-l1*cos(u[1])-l2*cos(u[3])];\n",
    "        linewidth=5,\n",
    "        color=:blue,\n",
    "        legend=false)\n",
    "end"
   ]
  },
  {
   "cell_type": "code",
   "execution_count": null,
   "id": "e7ab3c66-f2a9-4aab-bc65-b38ad0ad3743",
   "metadata": {},
   "outputs": [],
   "source": [
    "dt = 0.05\n",
    "anim = @animate for t ∈ tspan[1]:dt:tspan[2]\n",
    "    doublePendulumPlot(sol(t))\n",
    "end\n",
    "gif(anim,\"doublePendulumAnim.gif\",fps=30)"
   ]
  },
  {
   "cell_type": "code",
   "execution_count": null,
   "id": "abf919be-46b3-4446-9559-ebecc3b3a68c",
   "metadata": {},
   "outputs": [],
   "source": []
  }
 ],
 "metadata": {
  "kernelspec": {
   "display_name": "Julia 1.10.3",
   "language": "julia",
   "name": "julia-1.10"
  },
  "language_info": {
   "file_extension": ".jl",
   "mimetype": "application/julia",
   "name": "julia",
   "version": "1.10.3"
  }
 },
 "nbformat": 4,
 "nbformat_minor": 5
}
