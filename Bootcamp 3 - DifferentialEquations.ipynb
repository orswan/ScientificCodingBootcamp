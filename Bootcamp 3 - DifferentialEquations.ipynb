{
 "cells": [
  {
   "cell_type": "markdown",
   "id": "ef2902db-674d-4a83-b934-aa7d1a6051af",
   "metadata": {},
   "source": [
    "<h1>Scientific coding bootcamp notebook 3: Differential equations.</h1>"
   ]
  },
  {
   "cell_type": "code",
   "execution_count": 1,
   "id": "379c84c6-4bf4-441a-b2aa-cc8fe0105ed9",
   "metadata": {},
   "outputs": [],
   "source": [
    "using Plots, DifferentialEquations"
   ]
  },
  {
   "cell_type": "code",
   "execution_count": null,
   "id": "cd32a1a5-0846-461a-911a-7c6f9a638a82",
   "metadata": {},
   "outputs": [],
   "source": []
  }
 ],
 "metadata": {
  "kernelspec": {
   "display_name": "Julia 1.10.3",
   "language": "julia",
   "name": "julia-1.10"
  },
  "language_info": {
   "file_extension": ".jl",
   "mimetype": "application/julia",
   "name": "julia",
   "version": "1.10.3"
  }
 },
 "nbformat": 4,
 "nbformat_minor": 5
}
